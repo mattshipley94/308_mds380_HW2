{
 "cells": [
  {
   "cell_type": "code",
   "execution_count": 1,
   "metadata": {
    "collapsed": false
   },
   "outputs": [],
   "source": [
    "import matplotlib\n",
    "import matplotlib.pyplot as plt\n",
    "import numpy as np\n",
    "import pandas as pd\n",
    "import scipy as sc\n",
    "import csv\n",
    "import plotly as py\n",
    "import sklearn as skl\n",
    "from apyori import apriori\n",
    "import gc\n",
    "from orangecontrib.associate.fpgrowth import *\n",
    "%matplotlib inline"
   ]
  },
  {
   "cell_type": "code",
   "execution_count": 206,
   "metadata": {
    "collapsed": false
   },
   "outputs": [
    {
     "data": {
      "text/plain": [
       "' All of the code below which is commented out is used to create the stateKeepRows .csv file. Comment\\n    out if the stateKeepRows.csv file is not available. Will take > 2 hours to process '"
      ]
     },
     "execution_count": 206,
     "metadata": {},
     "output_type": "execute_result"
    }
   ],
   "source": [
    "''' All of the code below which is commented out is used to create the stateKeepRows .csv file. Comment\n",
    "    out if the stateKeepRows.csv file is not available. Will take > 2 hours to process '''"
   ]
  },
  {
   "cell_type": "code",
   "execution_count": 3,
   "metadata": {
    "collapsed": false
   },
   "outputs": [],
   "source": [
    "### Select only the STORE column from trnsact\n",
    "#trnsactCol = [\"SKU\", \"STORE\", \"REGISTER\", \"TRANNUM\", \"INTERID\", \"SALEDATE\", \"STYPE\", \"QUANTITY\", \"AMT\", \"ORGPRICE\", \"ORGPRICE2\", \"SEQ\", \"MIC\", \"?\"]\n",
    "#trnsactSTORE = pd.read_csv(\"D:\\\\DillardsPOS\\\\trnsact.csv\", sep=',', header=None, names=trnsactCol, usecols=[\"STORE\"])"
   ]
  },
  {
   "cell_type": "code",
   "execution_count": 4,
   "metadata": {
    "collapsed": true
   },
   "outputs": [],
   "source": [
    "### import entire strinfo table\n",
    "#strinfoCol = [\"CITY\", \"STATE\", \"ZIP\", \"?\"]\n",
    "#strinfo = pd.read_csv('D:\\\\DillardsPOS\\\\strinfo.csv', sep=',', engine='python', header=None, names=strinfoCol)"
   ]
  },
  {
   "cell_type": "code",
   "execution_count": 5,
   "metadata": {
    "collapsed": false
   },
   "outputs": [],
   "source": [
    "### create array stateSelect with has 1's for each transaction made in a Texas store\n",
    "#stateSelect = np.zeros(len(trnsactSTORE))\n",
    "#ARSTORE = [2,4,204,304,400,404,504,604,704,804,1000,1304,2400,3400,6400,8006,8106,8206,8306,8406,8506,8706,8808,8906,9800,9806,9900,9906]\n",
    "#for i in np.arange(len(trnsactSTORE)):\n",
    "#    if trnsactSTORE.STORE[i] in ARSTORE:\n",
    "#        stateSelect[i] = 1"
   ]
  },
  {
   "cell_type": "code",
   "execution_count": 6,
   "metadata": {
    "collapsed": false
   },
   "outputs": [],
   "source": [
    "### read in state select csv\n",
    "#stateSelect = pd.read_csv(\"D:\\\\DillardsPOS\\\\stateSelect.csv\", sep=',', header=None, names=[\"Arkansas?\"])"
   ]
  },
  {
   "cell_type": "code",
   "execution_count": 7,
   "metadata": {
    "collapsed": false
   },
   "outputs": [],
   "source": [
    "### convert stateSelect to an int array\n",
    "#stateSelectInt = stateSelect[\"Arkansas?\"].astype(dtype=int)"
   ]
  },
  {
   "cell_type": "code",
   "execution_count": 8,
   "metadata": {
    "collapsed": false
   },
   "outputs": [],
   "source": [
    "### calculate array containing indices of trnsact rows we want to skip\n",
    "#stateSkipRows = [i for i, x in enumerate(stateSelectInt) if x == 0]"
   ]
  },
  {
   "cell_type": "code",
   "execution_count": 9,
   "metadata": {
    "collapsed": false
   },
   "outputs": [],
   "source": [
    "### array of rows we want to keep (Arkansas stores)\n",
    "#stateKeepRows = [i for i, x in enumerate(stateSelectInt) if x == 1]"
   ]
  },
  {
   "cell_type": "code",
   "execution_count": 10,
   "metadata": {
    "collapsed": false
   },
   "outputs": [],
   "source": [
    "### store in csv for future use\n",
    "#np.savetxt(\"D:\\\\DillardsPOS\\\\stateKeepRows.csv\", stateKeepRows, delimiter=',')"
   ]
  },
  {
   "cell_type": "code",
   "execution_count": 12,
   "metadata": {
    "collapsed": false
   },
   "outputs": [],
   "source": [
    "stateKeepRows = pd.read_csv(\"D:\\\\DillardsPOS\\\\stateKeepRows.csv\", header=None, names=[\"stateKeepRows\"])\n",
    "stateSkipRows = np.arange(120916896)\n",
    "stateSkipRows = np.delete(stateSkipRows, obj=stateKeepRows, axis=0)"
   ]
  },
  {
   "cell_type": "code",
   "execution_count": 13,
   "metadata": {
    "collapsed": false
   },
   "outputs": [],
   "source": [
    "# import only Arkansas transactions to trnsactAR dataframe\n",
    "trnsactCol = [\"SKU\", \"STORE\", \"REGISTER\", \"TRANNUM\", \"INTERID\", \"SALEDATE\", \"STYPE\", \"QUANTITY\", \"AMT\", \"ORGPRICE\", \"ORGPRICE2\", \"SEQ\", \"MIC\", \"?\"]\n",
    "primaryKeys = [\"SKU\", \"STORE\", \"REGISTER\", \"TRANNUM\", \"SALEDATE\", \"STYPE\", \"SEQ\"]\n",
    "trnsactAR = pd.read_csv(\"D:\\\\DillardsPOS\\\\trnsact.csv\", sep=',', header=None, names=trnsactCol, skiprows=stateSkipRows, usecols=primaryKeys)"
   ]
  },
  {
   "cell_type": "code",
   "execution_count": 14,
   "metadata": {
    "collapsed": false
   },
   "outputs": [],
   "source": [
    "# delete return transactions\n",
    "trnsactAR = trnsactAR[trnsactAR.STYPE == \"P\"]"
   ]
  },
  {
   "cell_type": "code",
   "execution_count": 15,
   "metadata": {
    "collapsed": false
   },
   "outputs": [],
   "source": [
    "# groups each individual item transaction into a basket\n",
    "grouped = trnsactAR[\"SKU\"].groupby([trnsactAR[\"STORE\"], trnsactAR[\"REGISTER\"], trnsactAR[\"TRANNUM\"], trnsactAR[\"SALEDATE\"]])\n",
    "groups = grouped.groups"
   ]
  },
  {
   "cell_type": "code",
   "execution_count": 102,
   "metadata": {
    "collapsed": false
   },
   "outputs": [],
   "source": [
    "# list of lists baskets holds all of the market baskets\n",
    "baskets = []\n",
    "\n",
    "for name, group in grouped:\n",
    "    baskets.append(grouped.get_group((name)).values)\n",
    "    #baskets.append(groups[name][\"SKU\"])"
   ]
  },
  {
   "cell_type": "code",
   "execution_count": 151,
   "metadata": {
    "collapsed": true
   },
   "outputs": [],
   "source": [
    "itemSets = dict(frequent_itemsets(baskets, 250))\n",
    "associationRules = list(association_rules(itemsets, .077))"
   ]
  },
  {
   "cell_type": "code",
   "execution_count": 179,
   "metadata": {
    "collapsed": false
   },
   "outputs": [],
   "source": [
    "lH = np.zeros(50)\n",
    "for i in np.arange(len(associationRules)):\n",
    "    lH[i] = next(iter(associationRules[i][0]))\n",
    "lH = lH.astype(int)\n",
    "    \n",
    "rH = np.zeros(50)\n",
    "for i in np.arange(len(associationRules)):\n",
    "    rH[i] = next(iter(associationRules[i][1]))\n",
    "rH = rH.astype(int)\n",
    "    \n",
    "support = np.zeros(50)\n",
    "for i in np.arange(len(associationRules)):\n",
    "    support[i] = associationRules[i][2]\n",
    "support = support.astype(int)\n",
    "    \n",
    "confidence = np.zeros(50)\n",
    "for i in np.arange(len(associationRules)):\n",
    "    confidence[i] = round(associationRules[i][3], 4)"
   ]
  },
  {
   "cell_type": "code",
   "execution_count": 204,
   "metadata": {
    "collapsed": false
   },
   "outputs": [],
   "source": [
    "d = {'Left Hand' : lH,\n",
    "     'Right Hand' : rH,\n",
    "     'Support' : support,\n",
    "     'Confidence' : confidence}\n",
    "displayTable = pd.DataFrame(d)\n",
    "displayTable = displayTable[['Left Hand', 'Right Hand', 'Support', 'Confidence']]\n",
    "displayTable = displayTable.sort_values(by='Confidence', axis=0, ascending=False)\n",
    "displayTable = displayTable.set_index(np.arange(1,51,1))"
   ]
  },
  {
   "cell_type": "code",
   "execution_count": 205,
   "metadata": {
    "collapsed": false
   },
   "outputs": [
    {
     "data": {
      "text/html": [
       "<div>\n",
       "<table border=\"1\" class=\"dataframe\">\n",
       "  <thead>\n",
       "    <tr style=\"text-align: right;\">\n",
       "      <th></th>\n",
       "      <th>Left Hand</th>\n",
       "      <th>Right Hand</th>\n",
       "      <th>Support</th>\n",
       "      <th>Confidence</th>\n",
       "    </tr>\n",
       "  </thead>\n",
       "  <tbody>\n",
       "    <tr>\n",
       "      <th>1</th>\n",
       "      <td>6062521</td>\n",
       "      <td>6072521</td>\n",
       "      <td>625</td>\n",
       "      <td>0.7070</td>\n",
       "    </tr>\n",
       "    <tr>\n",
       "      <th>2</th>\n",
       "      <td>6072521</td>\n",
       "      <td>6062521</td>\n",
       "      <td>625</td>\n",
       "      <td>0.6779</td>\n",
       "    </tr>\n",
       "    <tr>\n",
       "      <th>3</th>\n",
       "      <td>6032521</td>\n",
       "      <td>6072521</td>\n",
       "      <td>549</td>\n",
       "      <td>0.6169</td>\n",
       "    </tr>\n",
       "    <tr>\n",
       "      <th>4</th>\n",
       "      <td>6072521</td>\n",
       "      <td>6032521</td>\n",
       "      <td>549</td>\n",
       "      <td>0.5954</td>\n",
       "    </tr>\n",
       "    <tr>\n",
       "      <th>5</th>\n",
       "      <td>6062521</td>\n",
       "      <td>6032521</td>\n",
       "      <td>516</td>\n",
       "      <td>0.5837</td>\n",
       "    </tr>\n",
       "    <tr>\n",
       "      <th>6</th>\n",
       "      <td>6032521</td>\n",
       "      <td>6062521</td>\n",
       "      <td>516</td>\n",
       "      <td>0.5798</td>\n",
       "    </tr>\n",
       "    <tr>\n",
       "      <th>7</th>\n",
       "      <td>3988011</td>\n",
       "      <td>2716578</td>\n",
       "      <td>680</td>\n",
       "      <td>0.2951</td>\n",
       "    </tr>\n",
       "    <tr>\n",
       "      <th>8</th>\n",
       "      <td>3968011</td>\n",
       "      <td>3898011</td>\n",
       "      <td>846</td>\n",
       "      <td>0.2902</td>\n",
       "    </tr>\n",
       "    <tr>\n",
       "      <th>9</th>\n",
       "      <td>3908011</td>\n",
       "      <td>3988011</td>\n",
       "      <td>528</td>\n",
       "      <td>0.2763</td>\n",
       "    </tr>\n",
       "    <tr>\n",
       "      <th>10</th>\n",
       "      <td>3908011</td>\n",
       "      <td>3998011</td>\n",
       "      <td>512</td>\n",
       "      <td>0.2679</td>\n",
       "    </tr>\n",
       "    <tr>\n",
       "      <th>11</th>\n",
       "      <td>3908011</td>\n",
       "      <td>2726578</td>\n",
       "      <td>506</td>\n",
       "      <td>0.2648</td>\n",
       "    </tr>\n",
       "    <tr>\n",
       "      <th>12</th>\n",
       "      <td>8798636</td>\n",
       "      <td>5528349</td>\n",
       "      <td>645</td>\n",
       "      <td>0.2585</td>\n",
       "    </tr>\n",
       "    <tr>\n",
       "      <th>13</th>\n",
       "      <td>2716578</td>\n",
       "      <td>3988011</td>\n",
       "      <td>680</td>\n",
       "      <td>0.2559</td>\n",
       "    </tr>\n",
       "    <tr>\n",
       "      <th>14</th>\n",
       "      <td>4992993</td>\n",
       "      <td>3161221</td>\n",
       "      <td>553</td>\n",
       "      <td>0.2509</td>\n",
       "    </tr>\n",
       "    <tr>\n",
       "      <th>15</th>\n",
       "      <td>8798636</td>\n",
       "      <td>2783996</td>\n",
       "      <td>610</td>\n",
       "      <td>0.2445</td>\n",
       "    </tr>\n",
       "    <tr>\n",
       "      <th>16</th>\n",
       "      <td>3898011</td>\n",
       "      <td>3978011</td>\n",
       "      <td>930</td>\n",
       "      <td>0.2311</td>\n",
       "    </tr>\n",
       "    <tr>\n",
       "      <th>17</th>\n",
       "      <td>3988011</td>\n",
       "      <td>3908011</td>\n",
       "      <td>528</td>\n",
       "      <td>0.2292</td>\n",
       "    </tr>\n",
       "    <tr>\n",
       "      <th>18</th>\n",
       "      <td>3898011</td>\n",
       "      <td>3968011</td>\n",
       "      <td>846</td>\n",
       "      <td>0.2102</td>\n",
       "    </tr>\n",
       "    <tr>\n",
       "      <th>19</th>\n",
       "      <td>3968011</td>\n",
       "      <td>3690654</td>\n",
       "      <td>553</td>\n",
       "      <td>0.1897</td>\n",
       "    </tr>\n",
       "    <tr>\n",
       "      <th>20</th>\n",
       "      <td>3690654</td>\n",
       "      <td>3968011</td>\n",
       "      <td>553</td>\n",
       "      <td>0.1864</td>\n",
       "    </tr>\n",
       "    <tr>\n",
       "      <th>21</th>\n",
       "      <td>4108011</td>\n",
       "      <td>4628597</td>\n",
       "      <td>2066</td>\n",
       "      <td>0.1862</td>\n",
       "    </tr>\n",
       "    <tr>\n",
       "      <th>22</th>\n",
       "      <td>3690654</td>\n",
       "      <td>3898011</td>\n",
       "      <td>550</td>\n",
       "      <td>0.1854</td>\n",
       "    </tr>\n",
       "    <tr>\n",
       "      <th>23</th>\n",
       "      <td>3898011</td>\n",
       "      <td>3524026</td>\n",
       "      <td>742</td>\n",
       "      <td>0.1843</td>\n",
       "    </tr>\n",
       "    <tr>\n",
       "      <th>24</th>\n",
       "      <td>3998011</td>\n",
       "      <td>2726578</td>\n",
       "      <td>689</td>\n",
       "      <td>0.1785</td>\n",
       "    </tr>\n",
       "    <tr>\n",
       "      <th>25</th>\n",
       "      <td>2726578</td>\n",
       "      <td>3998011</td>\n",
       "      <td>689</td>\n",
       "      <td>0.1676</td>\n",
       "    </tr>\n",
       "    <tr>\n",
       "      <th>26</th>\n",
       "      <td>6318344</td>\n",
       "      <td>4628597</td>\n",
       "      <td>599</td>\n",
       "      <td>0.1590</td>\n",
       "    </tr>\n",
       "    <tr>\n",
       "      <th>27</th>\n",
       "      <td>3524026</td>\n",
       "      <td>4628597</td>\n",
       "      <td>1608</td>\n",
       "      <td>0.1584</td>\n",
       "    </tr>\n",
       "    <tr>\n",
       "      <th>28</th>\n",
       "      <td>3978011</td>\n",
       "      <td>3898011</td>\n",
       "      <td>930</td>\n",
       "      <td>0.1497</td>\n",
       "    </tr>\n",
       "    <tr>\n",
       "      <th>29</th>\n",
       "      <td>3161221</td>\n",
       "      <td>4628597</td>\n",
       "      <td>945</td>\n",
       "      <td>0.1494</td>\n",
       "    </tr>\n",
       "    <tr>\n",
       "      <th>30</th>\n",
       "      <td>3978011</td>\n",
       "      <td>3524026</td>\n",
       "      <td>924</td>\n",
       "      <td>0.1487</td>\n",
       "    </tr>\n",
       "    <tr>\n",
       "      <th>31</th>\n",
       "      <td>3978011</td>\n",
       "      <td>4628597</td>\n",
       "      <td>863</td>\n",
       "      <td>0.1389</td>\n",
       "    </tr>\n",
       "    <tr>\n",
       "      <th>32</th>\n",
       "      <td>3559555</td>\n",
       "      <td>4628597</td>\n",
       "      <td>671</td>\n",
       "      <td>0.1385</td>\n",
       "    </tr>\n",
       "    <tr>\n",
       "      <th>33</th>\n",
       "      <td>3898011</td>\n",
       "      <td>3690654</td>\n",
       "      <td>550</td>\n",
       "      <td>0.1366</td>\n",
       "    </tr>\n",
       "    <tr>\n",
       "      <th>34</th>\n",
       "      <td>9277426</td>\n",
       "      <td>4628597</td>\n",
       "      <td>946</td>\n",
       "      <td>0.1334</td>\n",
       "    </tr>\n",
       "    <tr>\n",
       "      <th>35</th>\n",
       "      <td>3998011</td>\n",
       "      <td>3908011</td>\n",
       "      <td>512</td>\n",
       "      <td>0.1326</td>\n",
       "    </tr>\n",
       "    <tr>\n",
       "      <th>36</th>\n",
       "      <td>803921</td>\n",
       "      <td>4628597</td>\n",
       "      <td>865</td>\n",
       "      <td>0.1311</td>\n",
       "    </tr>\n",
       "    <tr>\n",
       "      <th>37</th>\n",
       "      <td>3898011</td>\n",
       "      <td>803921</td>\n",
       "      <td>500</td>\n",
       "      <td>0.1242</td>\n",
       "    </tr>\n",
       "    <tr>\n",
       "      <th>38</th>\n",
       "      <td>2726578</td>\n",
       "      <td>3908011</td>\n",
       "      <td>506</td>\n",
       "      <td>0.1231</td>\n",
       "    </tr>\n",
       "    <tr>\n",
       "      <th>39</th>\n",
       "      <td>4208011</td>\n",
       "      <td>4628597</td>\n",
       "      <td>755</td>\n",
       "      <td>0.1188</td>\n",
       "    </tr>\n",
       "    <tr>\n",
       "      <th>40</th>\n",
       "      <td>3868338</td>\n",
       "      <td>4628597</td>\n",
       "      <td>552</td>\n",
       "      <td>0.1153</td>\n",
       "    </tr>\n",
       "    <tr>\n",
       "      <th>41</th>\n",
       "      <td>3559555</td>\n",
       "      <td>803921</td>\n",
       "      <td>542</td>\n",
       "      <td>0.1118</td>\n",
       "    </tr>\n",
       "    <tr>\n",
       "      <th>42</th>\n",
       "      <td>2698353</td>\n",
       "      <td>4628597</td>\n",
       "      <td>646</td>\n",
       "      <td>0.1006</td>\n",
       "    </tr>\n",
       "    <tr>\n",
       "      <th>43</th>\n",
       "      <td>2783996</td>\n",
       "      <td>8798636</td>\n",
       "      <td>610</td>\n",
       "      <td>0.0998</td>\n",
       "    </tr>\n",
       "    <tr>\n",
       "      <th>44</th>\n",
       "      <td>3978011</td>\n",
       "      <td>4108011</td>\n",
       "      <td>598</td>\n",
       "      <td>0.0962</td>\n",
       "    </tr>\n",
       "    <tr>\n",
       "      <th>45</th>\n",
       "      <td>3524026</td>\n",
       "      <td>3978011</td>\n",
       "      <td>924</td>\n",
       "      <td>0.0910</td>\n",
       "    </tr>\n",
       "    <tr>\n",
       "      <th>46</th>\n",
       "      <td>3161221</td>\n",
       "      <td>4992993</td>\n",
       "      <td>553</td>\n",
       "      <td>0.0874</td>\n",
       "    </tr>\n",
       "    <tr>\n",
       "      <th>47</th>\n",
       "      <td>5528349</td>\n",
       "      <td>8798636</td>\n",
       "      <td>645</td>\n",
       "      <td>0.0865</td>\n",
       "    </tr>\n",
       "    <tr>\n",
       "      <th>48</th>\n",
       "      <td>3978011</td>\n",
       "      <td>803921</td>\n",
       "      <td>514</td>\n",
       "      <td>0.0827</td>\n",
       "    </tr>\n",
       "    <tr>\n",
       "      <th>49</th>\n",
       "      <td>803921</td>\n",
       "      <td>3559555</td>\n",
       "      <td>542</td>\n",
       "      <td>0.0822</td>\n",
       "    </tr>\n",
       "    <tr>\n",
       "      <th>50</th>\n",
       "      <td>803921</td>\n",
       "      <td>3978011</td>\n",
       "      <td>514</td>\n",
       "      <td>0.0779</td>\n",
       "    </tr>\n",
       "  </tbody>\n",
       "</table>\n",
       "</div>"
      ],
      "text/plain": [
       "    Left Hand  Right Hand  Support  Confidence\n",
       "1     6062521     6072521      625      0.7070\n",
       "2     6072521     6062521      625      0.6779\n",
       "3     6032521     6072521      549      0.6169\n",
       "4     6072521     6032521      549      0.5954\n",
       "5     6062521     6032521      516      0.5837\n",
       "6     6032521     6062521      516      0.5798\n",
       "7     3988011     2716578      680      0.2951\n",
       "8     3968011     3898011      846      0.2902\n",
       "9     3908011     3988011      528      0.2763\n",
       "10    3908011     3998011      512      0.2679\n",
       "11    3908011     2726578      506      0.2648\n",
       "12    8798636     5528349      645      0.2585\n",
       "13    2716578     3988011      680      0.2559\n",
       "14    4992993     3161221      553      0.2509\n",
       "15    8798636     2783996      610      0.2445\n",
       "16    3898011     3978011      930      0.2311\n",
       "17    3988011     3908011      528      0.2292\n",
       "18    3898011     3968011      846      0.2102\n",
       "19    3968011     3690654      553      0.1897\n",
       "20    3690654     3968011      553      0.1864\n",
       "21    4108011     4628597     2066      0.1862\n",
       "22    3690654     3898011      550      0.1854\n",
       "23    3898011     3524026      742      0.1843\n",
       "24    3998011     2726578      689      0.1785\n",
       "25    2726578     3998011      689      0.1676\n",
       "26    6318344     4628597      599      0.1590\n",
       "27    3524026     4628597     1608      0.1584\n",
       "28    3978011     3898011      930      0.1497\n",
       "29    3161221     4628597      945      0.1494\n",
       "30    3978011     3524026      924      0.1487\n",
       "31    3978011     4628597      863      0.1389\n",
       "32    3559555     4628597      671      0.1385\n",
       "33    3898011     3690654      550      0.1366\n",
       "34    9277426     4628597      946      0.1334\n",
       "35    3998011     3908011      512      0.1326\n",
       "36     803921     4628597      865      0.1311\n",
       "37    3898011      803921      500      0.1242\n",
       "38    2726578     3908011      506      0.1231\n",
       "39    4208011     4628597      755      0.1188\n",
       "40    3868338     4628597      552      0.1153\n",
       "41    3559555      803921      542      0.1118\n",
       "42    2698353     4628597      646      0.1006\n",
       "43    2783996     8798636      610      0.0998\n",
       "44    3978011     4108011      598      0.0962\n",
       "45    3524026     3978011      924      0.0910\n",
       "46    3161221     4992993      553      0.0874\n",
       "47    5528349     8798636      645      0.0865\n",
       "48    3978011      803921      514      0.0827\n",
       "49     803921     3559555      542      0.0822\n",
       "50     803921     3978011      514      0.0779"
      ]
     },
     "execution_count": 205,
     "metadata": {},
     "output_type": "execute_result"
    }
   ],
   "source": [
    "displayTable"
   ]
  },
  {
   "cell_type": "code",
   "execution_count": null,
   "metadata": {
    "collapsed": true
   },
   "outputs": [],
   "source": [
    "''' The following code was used in data exploration to import the different tables in the database '''"
   ]
  },
  {
   "cell_type": "code",
   "execution_count": null,
   "metadata": {
    "collapsed": false
   },
   "outputs": [],
   "source": [
    "# import entire deptinfo table\n",
    "#deptinfoCol = [\"DEPT\", \"DEPTDESC\", \"?\"]\n",
    "#deptinfo = pd.read_csv('D:\\\\DillardsPOS\\\\deptinfo.csv', sep=',', header=None, names=deptinfoCol, engine='python')"
   ]
  },
  {
   "cell_type": "code",
   "execution_count": null,
   "metadata": {
    "collapsed": false
   },
   "outputs": [],
   "source": [
    "# import entire skstinfo table\n",
    "#skstinfoCol = [\"SKU\", \"STORE\", \"COST\", \"RETAIL\", \"?\"]\n",
    "#skstinfo = pd.read_csv('D:\\\\DillardsPOS\\\\skstinfo.csv', sep=',', header=None, names=skstinfoCol, engine='python')"
   ]
  },
  {
   "cell_type": "code",
   "execution_count": null,
   "metadata": {
    "collapsed": false
   },
   "outputs": [],
   "source": [
    "# import entire skuinfo table\n",
    "#skuinfoCol = [\"SKU\", \"CLASSID\", \"DEPT\", \"UPC\", \"STYLE\", \"COLOR\", \"SIZE\", \"PACKSIZE\", \"VENDOR\", \"BRAND\"]\n",
    "#skuinfo = pd.read_csv('D:\\\\DillardsPOS\\\\skuinfo.csv', sep=',', engine='python', header=None, names=skuinfoCol, usecols=skuinfoCol)"
   ]
  },
  {
   "cell_type": "code",
   "execution_count": null,
   "metadata": {
    "collapsed": false
   },
   "outputs": [],
   "source": [
    "# import entire sample of trnsact table\n",
    "#trnsactCol = [\"SKU\", \"STORE\", \"REGISTER\", \"TRANNUM\", \"INTERID\", \"SALEDATE\", \"STYPE\", \"QUANTITY\", \"AMT\", \"ORGPRICE\", \"ORGPRICE2\", \"SEQ\", \"MIC\", \"?\"]\n",
    "#trnsact = pd.read_csv(\"D:\\\\DillardsPOS\\\\trnsact.csv\", sep=',', header=None, names=trnsactCol, engine='python', nrows=10000)"
   ]
  },
  {
   "cell_type": "code",
   "execution_count": null,
   "metadata": {
    "collapsed": false
   },
   "outputs": [],
   "source": [
    "# Code selects only the STYPE column from trnsact\n",
    "#trnsactCol = [\"SKU\", \"STORE\", \"REGISTER\", \"TRANNUM\", \"INTERID\", \"SALEDATE\", \"STYPE\", \"QUANTITY\", \"AMT\", \"ORGPRICE\", \"ORGPRICE2\", \"SEQ\", \"MIC\", \"?\"]\n",
    "#trnsactSTYPE = pd.read_csv(\"D:\\\\DillardsPOS\\\\trnsact.csv\", sep=',', header=None, names=trnsactCol, usecols=[\"STYPE\"])"
   ]
  },
  {
   "cell_type": "code",
   "execution_count": null,
   "metadata": {
    "collapsed": false
   },
   "outputs": [],
   "source": [
    "# Helper code for data exploration\n",
    "#unique, counts = np.unique((trnsact[\"ORGPRICE\"] == trnsact[\"ORGPRICE2\"]), return_counts=True)\n",
    "#print(unique)"
   ]
  }
 ],
 "metadata": {
  "anaconda-cloud": {},
  "kernelspec": {
   "display_name": "Python [Root]",
   "language": "python",
   "name": "Python [Root]"
  },
  "language_info": {
   "codemirror_mode": {
    "name": "ipython",
    "version": 3
   },
   "file_extension": ".py",
   "mimetype": "text/x-python",
   "name": "python",
   "nbconvert_exporter": "python",
   "pygments_lexer": "ipython3",
   "version": "3.5.2"
  }
 },
 "nbformat": 4,
 "nbformat_minor": 0
}
